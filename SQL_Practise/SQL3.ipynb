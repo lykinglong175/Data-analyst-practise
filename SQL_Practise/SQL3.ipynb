{
 "cells": [
  {
   "cell_type": "code",
   "execution_count": null,
   "id": "0b6c4ae8-9562-4302-8cef-a2856772e598",
   "metadata": {},
   "outputs": [],
   "source": [
    "import sqlite3\n",
    "\n",
    "conn = sqlite3.connect(\"mydb.db\")\n",
    "cursor = conn.cursor()\n",
    "\n",
    "with open(\"3schema.sql\", \"r\") as f:\n",
    "    sql_script = f.read()\n",
    "\n",
    "cursor.executescript(sql_script)\n",
    "conn.commit()"
   ]
  },
  {
   "cell_type": "code",
   "execution_count": null,
   "id": "5b98aab7-5094-4b15-a6eb-ed5e54d318bf",
   "metadata": {},
   "outputs": [],
   "source": [
    "%load_ext sql\n",
    "%sql sqlite:///mydb.db"
   ]
  },
  {
   "cell_type": "code",
   "execution_count": 5,
   "id": "30803033-bad5-45d7-bdb3-073b149853d9",
   "metadata": {},
   "outputs": [
    {
     "data": {
      "text/html": [
       "<span style=\"None\">Running query in &#x27;sqlite:///mydb.db&#x27;</span>"
      ],
      "text/plain": [
       "Running query in 'sqlite:///mydb.db'"
      ]
     },
     "metadata": {},
     "output_type": "display_data"
    },
    {
     "data": {
      "text/html": [
       "<table>\n",
       "    <thead>\n",
       "        <tr>\n",
       "            <th>Code</th>\n",
       "            <th>Contents</th>\n",
       "            <th>Value</th>\n",
       "            <th>Warehouse</th>\n",
       "        </tr>\n",
       "    </thead>\n",
       "    <tbody>\n",
       "        <tr>\n",
       "            <td>0MN7</td>\n",
       "            <td>Rocks</td>\n",
       "            <td>180.0</td>\n",
       "            <td>3</td>\n",
       "        </tr>\n",
       "        <tr>\n",
       "            <td>4H8P</td>\n",
       "            <td>Rocks</td>\n",
       "            <td>250.0</td>\n",
       "            <td>1</td>\n",
       "        </tr>\n",
       "        <tr>\n",
       "            <td>4RT3</td>\n",
       "            <td>Scissors</td>\n",
       "            <td>190.0</td>\n",
       "            <td>4</td>\n",
       "        </tr>\n",
       "        <tr>\n",
       "            <td>7G3H</td>\n",
       "            <td>Rocks</td>\n",
       "            <td>200.0</td>\n",
       "            <td>1</td>\n",
       "        </tr>\n",
       "        <tr>\n",
       "            <td>8JN6</td>\n",
       "            <td>Papers</td>\n",
       "            <td>75.0</td>\n",
       "            <td>1</td>\n",
       "        </tr>\n",
       "        <tr>\n",
       "            <td>8Y6U</td>\n",
       "            <td>Papers</td>\n",
       "            <td>50.0</td>\n",
       "            <td>3</td>\n",
       "        </tr>\n",
       "        <tr>\n",
       "            <td>9J6F</td>\n",
       "            <td>Papers</td>\n",
       "            <td>175.0</td>\n",
       "            <td>2</td>\n",
       "        </tr>\n",
       "        <tr>\n",
       "            <td>LL08</td>\n",
       "            <td>Rocks</td>\n",
       "            <td>140.0</td>\n",
       "            <td>4</td>\n",
       "        </tr>\n",
       "        <tr>\n",
       "            <td>P0H6</td>\n",
       "            <td>Scissors</td>\n",
       "            <td>125.0</td>\n",
       "            <td>1</td>\n",
       "        </tr>\n",
       "        <tr>\n",
       "            <td>P2T6</td>\n",
       "            <td>Scissors</td>\n",
       "            <td>150.0</td>\n",
       "            <td>2</td>\n",
       "        </tr>\n",
       "    </tbody>\n",
       "</table>\n",
       "<span style=\"font-style:italic;text-align:center;\">Truncated to <a href=\"https://jupysql.ploomber.io/en/latest/api/configuration.html#displaylimit\">displaylimit</a> of 10.</span>"
      ],
      "text/plain": [
       "+------+----------+-------+-----------+\n",
       "| Code | Contents | Value | Warehouse |\n",
       "+------+----------+-------+-----------+\n",
       "| 0MN7 |  Rocks   | 180.0 |     3     |\n",
       "| 4H8P |  Rocks   | 250.0 |     1     |\n",
       "| 4RT3 | Scissors | 190.0 |     4     |\n",
       "| 7G3H |  Rocks   | 200.0 |     1     |\n",
       "| 8JN6 |  Papers  |  75.0 |     1     |\n",
       "| 8Y6U |  Papers  |  50.0 |     3     |\n",
       "| 9J6F |  Papers  | 175.0 |     2     |\n",
       "| LL08 |  Rocks   | 140.0 |     4     |\n",
       "| P0H6 | Scissors | 125.0 |     1     |\n",
       "| P2T6 | Scissors | 150.0 |     2     |\n",
       "+------+----------+-------+-----------+\n",
       "Truncated to displaylimit of 10."
      ]
     },
     "execution_count": 5,
     "metadata": {},
     "output_type": "execute_result"
    }
   ],
   "source": [
    "%%sql\n",
    "--Showing Data\n",
    "SELECT * FROM Boxes"
   ]
  },
  {
   "cell_type": "code",
   "execution_count": 6,
   "id": "4b59e4d5-ead0-41c1-a171-ba38efd8c21e",
   "metadata": {},
   "outputs": [
    {
     "data": {
      "text/html": [
       "<span style=\"None\">Running query in &#x27;sqlite:///mydb.db&#x27;</span>"
      ],
      "text/plain": [
       "Running query in 'sqlite:///mydb.db'"
      ]
     },
     "metadata": {},
     "output_type": "display_data"
    },
    {
     "data": {
      "text/html": [
       "<table>\n",
       "    <thead>\n",
       "        <tr>\n",
       "            <th>Code</th>\n",
       "            <th>Location</th>\n",
       "            <th>Capacity</th>\n",
       "        </tr>\n",
       "    </thead>\n",
       "    <tbody>\n",
       "        <tr>\n",
       "            <td>1</td>\n",
       "            <td>Chicago</td>\n",
       "            <td>3</td>\n",
       "        </tr>\n",
       "        <tr>\n",
       "            <td>2</td>\n",
       "            <td>Chicago</td>\n",
       "            <td>4</td>\n",
       "        </tr>\n",
       "        <tr>\n",
       "            <td>3</td>\n",
       "            <td>New York</td>\n",
       "            <td>7</td>\n",
       "        </tr>\n",
       "        <tr>\n",
       "            <td>4</td>\n",
       "            <td>Los Angeles</td>\n",
       "            <td>2</td>\n",
       "        </tr>\n",
       "        <tr>\n",
       "            <td>5</td>\n",
       "            <td>San Francisco</td>\n",
       "            <td>8</td>\n",
       "        </tr>\n",
       "    </tbody>\n",
       "</table>"
      ],
      "text/plain": [
       "+------+---------------+----------+\n",
       "| Code |    Location   | Capacity |\n",
       "+------+---------------+----------+\n",
       "|  1   |    Chicago    |    3     |\n",
       "|  2   |    Chicago    |    4     |\n",
       "|  3   |    New York   |    7     |\n",
       "|  4   |  Los Angeles  |    2     |\n",
       "|  5   | San Francisco |    8     |\n",
       "+------+---------------+----------+"
      ]
     },
     "execution_count": 6,
     "metadata": {},
     "output_type": "execute_result"
    }
   ],
   "source": [
    "%%sql\n",
    "select * from warehouses"
   ]
  },
  {
   "cell_type": "code",
   "execution_count": 7,
   "id": "aeae40d6-03c3-4847-98f2-d76ad77ebbc6",
   "metadata": {},
   "outputs": [
    {
     "data": {
      "text/html": [
       "<span style=\"None\">Running query in &#x27;sqlite:///mydb.db&#x27;</span>"
      ],
      "text/plain": [
       "Running query in 'sqlite:///mydb.db'"
      ]
     },
     "metadata": {},
     "output_type": "display_data"
    },
    {
     "data": {
      "text/html": [
       "<table>\n",
       "    <thead>\n",
       "        <tr>\n",
       "            <th>Warehouse</th>\n",
       "            <th>avg(Value)</th>\n",
       "        </tr>\n",
       "    </thead>\n",
       "    <tbody>\n",
       "        <tr>\n",
       "            <td>1</td>\n",
       "            <td>162.5</td>\n",
       "        </tr>\n",
       "        <tr>\n",
       "            <td>2</td>\n",
       "            <td>162.5</td>\n",
       "        </tr>\n",
       "        <tr>\n",
       "            <td>3</td>\n",
       "            <td>115.0</td>\n",
       "        </tr>\n",
       "        <tr>\n",
       "            <td>4</td>\n",
       "            <td>165.0</td>\n",
       "        </tr>\n",
       "        <tr>\n",
       "            <td>5</td>\n",
       "            <td>90.0</td>\n",
       "        </tr>\n",
       "    </tbody>\n",
       "</table>"
      ],
      "text/plain": [
       "+-----------+------------+\n",
       "| Warehouse | avg(Value) |\n",
       "+-----------+------------+\n",
       "|     1     |   162.5    |\n",
       "|     2     |   162.5    |\n",
       "|     3     |   115.0    |\n",
       "|     4     |   165.0    |\n",
       "|     5     |    90.0    |\n",
       "+-----------+------------+"
      ]
     },
     "execution_count": 7,
     "metadata": {},
     "output_type": "execute_result"
    }
   ],
   "source": [
    "%%sql\n",
    "--- Select the warehouse code and the average value of the boxes in each warehouse.\n",
    "select Warehouse, avg(Value) from boxes group by Warehouse\n",
    "    "
   ]
  },
  {
   "cell_type": "code",
   "execution_count": 8,
   "id": "83262fda-f345-4ad0-8763-1730b4272f37",
   "metadata": {},
   "outputs": [
    {
     "data": {
      "text/html": [
       "<span style=\"None\">Running query in &#x27;sqlite:///mydb.db&#x27;</span>"
      ],
      "text/plain": [
       "Running query in 'sqlite:///mydb.db'"
      ]
     },
     "metadata": {},
     "output_type": "display_data"
    },
    {
     "data": {
      "text/html": [
       "<table>\n",
       "    <thead>\n",
       "        <tr>\n",
       "            <th>Code</th>\n",
       "            <th>Location</th>\n",
       "        </tr>\n",
       "    </thead>\n",
       "    <tbody>\n",
       "        <tr>\n",
       "            <td>0MN7</td>\n",
       "            <td>New York</td>\n",
       "        </tr>\n",
       "        <tr>\n",
       "            <td>4H8P</td>\n",
       "            <td>Chicago</td>\n",
       "        </tr>\n",
       "        <tr>\n",
       "            <td>4RT3</td>\n",
       "            <td>Los Angeles</td>\n",
       "        </tr>\n",
       "        <tr>\n",
       "            <td>7G3H</td>\n",
       "            <td>Chicago</td>\n",
       "        </tr>\n",
       "        <tr>\n",
       "            <td>8JN6</td>\n",
       "            <td>Chicago</td>\n",
       "        </tr>\n",
       "        <tr>\n",
       "            <td>8Y6U</td>\n",
       "            <td>New York</td>\n",
       "        </tr>\n",
       "        <tr>\n",
       "            <td>9J6F</td>\n",
       "            <td>Chicago</td>\n",
       "        </tr>\n",
       "        <tr>\n",
       "            <td>LL08</td>\n",
       "            <td>Los Angeles</td>\n",
       "        </tr>\n",
       "        <tr>\n",
       "            <td>P0H6</td>\n",
       "            <td>Chicago</td>\n",
       "        </tr>\n",
       "        <tr>\n",
       "            <td>P2T6</td>\n",
       "            <td>Chicago</td>\n",
       "        </tr>\n",
       "    </tbody>\n",
       "</table>\n",
       "<span style=\"font-style:italic;text-align:center;\">Truncated to <a href=\"https://jupysql.ploomber.io/en/latest/api/configuration.html#displaylimit\">displaylimit</a> of 10.</span>"
      ],
      "text/plain": [
       "+------+-------------+\n",
       "| Code |   Location  |\n",
       "+------+-------------+\n",
       "| 0MN7 |   New York  |\n",
       "| 4H8P |   Chicago   |\n",
       "| 4RT3 | Los Angeles |\n",
       "| 7G3H |   Chicago   |\n",
       "| 8JN6 |   Chicago   |\n",
       "| 8Y6U |   New York  |\n",
       "| 9J6F |   Chicago   |\n",
       "| LL08 | Los Angeles |\n",
       "| P0H6 |   Chicago   |\n",
       "| P2T6 |   Chicago   |\n",
       "+------+-------------+\n",
       "Truncated to displaylimit of 10."
      ]
     },
     "execution_count": 8,
     "metadata": {},
     "output_type": "execute_result"
    }
   ],
   "source": [
    "%%sql\n",
    "-- Select the code of each box, along with the name of the city the box is located in.\n",
    "select b.code, w.Location\n",
    "from Boxes b\n",
    "join warehouses w\n",
    "on b.warehouse = w.Code\n"
   ]
  },
  {
   "cell_type": "code",
   "execution_count": 10,
   "id": "e4445f4e-18f6-4d4a-b451-a91bf5ecfa2e",
   "metadata": {},
   "outputs": [
    {
     "data": {
      "text/html": [
       "<span style=\"None\">Running query in &#x27;sqlite:///mydb.db&#x27;</span>"
      ],
      "text/plain": [
       "Running query in 'sqlite:///mydb.db'"
      ]
     },
     "metadata": {},
     "output_type": "display_data"
    },
    {
     "data": {
      "text/html": [
       "<table>\n",
       "    <thead>\n",
       "        <tr>\n",
       "            <th>Warehouse</th>\n",
       "            <th>nums</th>\n",
       "        </tr>\n",
       "    </thead>\n",
       "    <tbody>\n",
       "        <tr>\n",
       "            <td>1</td>\n",
       "            <td>4</td>\n",
       "        </tr>\n",
       "        <tr>\n",
       "            <td>2</td>\n",
       "            <td>2</td>\n",
       "        </tr>\n",
       "        <tr>\n",
       "            <td>3</td>\n",
       "            <td>2</td>\n",
       "        </tr>\n",
       "        <tr>\n",
       "            <td>4</td>\n",
       "            <td>2</td>\n",
       "        </tr>\n",
       "        <tr>\n",
       "            <td>5</td>\n",
       "            <td>1</td>\n",
       "        </tr>\n",
       "    </tbody>\n",
       "</table>"
      ],
      "text/plain": [
       "+-----------+------+\n",
       "| Warehouse | nums |\n",
       "+-----------+------+\n",
       "|     1     |  4   |\n",
       "|     2     |  2   |\n",
       "|     3     |  2   |\n",
       "|     4     |  2   |\n",
       "|     5     |  1   |\n",
       "+-----------+------+"
      ]
     },
     "execution_count": 10,
     "metadata": {},
     "output_type": "execute_result"
    }
   ],
   "source": [
    "%%sql\n",
    "-- Select the warehouse codes, along with the number of boxes in each warehouse. \n",
    "select Warehouse, count(*) as nums\n",
    "from boxes \n",
    "group by warehouse;"
   ]
  },
  {
   "cell_type": "code",
   "execution_count": 12,
   "id": "4fa25a06-e23c-47a8-98c2-f366c837b7b0",
   "metadata": {},
   "outputs": [
    {
     "data": {
      "text/html": [
       "<span style=\"None\">Running query in &#x27;sqlite:///mydb.db&#x27;</span>"
      ],
      "text/plain": [
       "Running query in 'sqlite:///mydb.db'"
      ]
     },
     "metadata": {},
     "output_type": "display_data"
    },
    {
     "data": {
      "text/html": [
       "<table>\n",
       "    <thead>\n",
       "        <tr>\n",
       "            <th>Code</th>\n",
       "        </tr>\n",
       "    </thead>\n",
       "    <tbody>\n",
       "        <tr>\n",
       "            <td>1</td>\n",
       "        </tr>\n",
       "    </tbody>\n",
       "</table>"
      ],
      "text/plain": [
       "+------+\n",
       "| Code |\n",
       "+------+\n",
       "|  1   |\n",
       "+------+"
      ]
     },
     "execution_count": 12,
     "metadata": {},
     "output_type": "execute_result"
    }
   ],
   "source": [
    "%%sql\n",
    "-- Select the codes of all warehouses that are saturated \n",
    "-- (a warehouse is saturated if the number of boxes in it is larger than the warehouse's capacity).\n",
    "\n",
    "select Code\n",
    "   from Warehouses\n",
    "   where Capacity <\n",
    "   (\n",
    "     select count(*)\n",
    "       from Boxes\n",
    "       where Warehouse = Warehouses.Code\n",
    "   );"
   ]
  },
  {
   "cell_type": "code",
   "execution_count": 13,
   "id": "0a67336f-df02-4586-8968-fe543bb4da67",
   "metadata": {},
   "outputs": [
    {
     "data": {
      "text/html": [
       "<span style=\"None\">Running query in &#x27;sqlite:///mydb.db&#x27;</span>"
      ],
      "text/plain": [
       "Running query in 'sqlite:///mydb.db'"
      ]
     },
     "metadata": {},
     "output_type": "display_data"
    },
    {
     "data": {
      "text/html": [
       "<table>\n",
       "    <thead>\n",
       "        <tr>\n",
       "            <th>Code</th>\n",
       "        </tr>\n",
       "    </thead>\n",
       "    <tbody>\n",
       "        <tr>\n",
       "            <td>4H8P</td>\n",
       "        </tr>\n",
       "        <tr>\n",
       "            <td>7G3H</td>\n",
       "        </tr>\n",
       "        <tr>\n",
       "            <td>8JN6</td>\n",
       "        </tr>\n",
       "        <tr>\n",
       "            <td>9J6F</td>\n",
       "        </tr>\n",
       "        <tr>\n",
       "            <td>P0H6</td>\n",
       "        </tr>\n",
       "        <tr>\n",
       "            <td>P2T6</td>\n",
       "        </tr>\n",
       "    </tbody>\n",
       "</table>"
      ],
      "text/plain": [
       "+------+\n",
       "| Code |\n",
       "+------+\n",
       "| 4H8P |\n",
       "| 7G3H |\n",
       "| 8JN6 |\n",
       "| 9J6F |\n",
       "| P0H6 |\n",
       "| P2T6 |\n",
       "+------+"
      ]
     },
     "execution_count": 13,
     "metadata": {},
     "output_type": "execute_result"
    }
   ],
   "source": [
    "%%sql\n",
    "-- Select the codes of all the boxes located in Chicago.\n",
    "select Boxes.code \n",
    "from boxes join Warehouses\n",
    "on boxes.warehouse = warehouses.code\n",
    "where warehouses.location = 'Chicago'\n"
   ]
  },
  {
   "cell_type": "code",
   "execution_count": 14,
   "id": "4fd66958-d093-491f-9978-c13331e0e6e8",
   "metadata": {},
   "outputs": [
    {
     "data": {
      "text/html": [
       "<span style=\"None\">Running query in &#x27;sqlite:///mydb.db&#x27;</span>"
      ],
      "text/plain": [
       "Running query in 'sqlite:///mydb.db'"
      ]
     },
     "metadata": {},
     "output_type": "display_data"
    },
    {
     "data": {
      "text/html": [
       "<span style=\"color: green\">1 rows affected.</span>"
      ],
      "text/plain": [
       "1 rows affected."
      ]
     },
     "metadata": {},
     "output_type": "display_data"
    },
    {
     "data": {
      "text/html": [
       "<table>\n",
       "    <thead>\n",
       "        <tr>\n",
       "        </tr>\n",
       "    </thead>\n",
       "    <tbody>\n",
       "    </tbody>\n",
       "</table>"
      ],
      "text/plain": [
       "++\n",
       "||\n",
       "++\n",
       "++"
      ]
     },
     "execution_count": 14,
     "metadata": {},
     "output_type": "execute_result"
    }
   ],
   "source": [
    "%%sql\n",
    "-- Create a new warehouse in New York with a capacity for 3 boxes\n",
    "insert into Warehouses values(6,\"New York\",3)"
   ]
  },
  {
   "cell_type": "code",
   "execution_count": 15,
   "id": "39d644f7-69fd-4f14-8054-1ae18a9215bb",
   "metadata": {},
   "outputs": [
    {
     "data": {
      "text/html": [
       "<span style=\"None\">Running query in &#x27;sqlite:///mydb.db&#x27;</span>"
      ],
      "text/plain": [
       "Running query in 'sqlite:///mydb.db'"
      ]
     },
     "metadata": {},
     "output_type": "display_data"
    },
    {
     "data": {
      "text/html": [
       "<span style=\"color: green\">11 rows affected.</span>"
      ],
      "text/plain": [
       "11 rows affected."
      ]
     },
     "metadata": {},
     "output_type": "display_data"
    },
    {
     "data": {
      "text/html": [
       "<table>\n",
       "    <thead>\n",
       "        <tr>\n",
       "        </tr>\n",
       "    </thead>\n",
       "    <tbody>\n",
       "    </tbody>\n",
       "</table>"
      ],
      "text/plain": [
       "++\n",
       "||\n",
       "++\n",
       "++"
      ]
     },
     "execution_count": 15,
     "metadata": {},
     "output_type": "execute_result"
    }
   ],
   "source": [
    "%%sql\n",
    "-- Reduce the value of all boxes by 15%.\n",
    "update boxes\n",
    "set value = value *0.05"
   ]
  },
  {
   "cell_type": "code",
   "execution_count": 16,
   "id": "83b2ba77-6c0f-4826-bbdb-05de395dbf90",
   "metadata": {},
   "outputs": [
    {
     "data": {
      "text/html": [
       "<span style=\"None\">Running query in &#x27;sqlite:///mydb.db&#x27;</span>"
      ],
      "text/plain": [
       "Running query in 'sqlite:///mydb.db'"
      ]
     },
     "metadata": {},
     "output_type": "display_data"
    },
    {
     "data": {
      "text/html": [
       "<span style=\"color: green\">11 rows affected.</span>"
      ],
      "text/plain": [
       "11 rows affected."
      ]
     },
     "metadata": {},
     "output_type": "display_data"
    },
    {
     "data": {
      "text/html": [
       "<table>\n",
       "    <thead>\n",
       "        <tr>\n",
       "        </tr>\n",
       "    </thead>\n",
       "    <tbody>\n",
       "    </tbody>\n",
       "</table>"
      ],
      "text/plain": [
       "++\n",
       "||\n",
       "++\n",
       "++"
      ]
     },
     "execution_count": 16,
     "metadata": {},
     "output_type": "execute_result"
    }
   ],
   "source": [
    "%%sql\n",
    "-- Remove all boxes with a value lower than $100.\n",
    "delete from boxes\n",
    "where value < 100\n"
   ]
  },
  {
   "cell_type": "code",
   "execution_count": 17,
   "id": "ddcc7ab2-605a-4618-ab6a-d0494c4f42a7",
   "metadata": {},
   "outputs": [
    {
     "data": {
      "text/html": [
       "<span style=\"None\">Running query in &#x27;sqlite:///mydb.db&#x27;</span>"
      ],
      "text/plain": [
       "Running query in 'sqlite:///mydb.db'"
      ]
     },
     "metadata": {},
     "output_type": "display_data"
    },
    {
     "data": {
      "text/html": [
       "<table>\n",
       "    <thead>\n",
       "        <tr>\n",
       "        </tr>\n",
       "    </thead>\n",
       "    <tbody>\n",
       "    </tbody>\n",
       "</table>"
      ],
      "text/plain": [
       "++\n",
       "||\n",
       "++\n",
       "++"
      ]
     },
     "execution_count": 17,
     "metadata": {},
     "output_type": "execute_result"
    }
   ],
   "source": [
    "%%sql\n",
    "-- Remove all boxes from saturated warehouses.\n",
    "delete from boxes\n",
    "where warehouse in\n",
    "(\n",
    "SELECT Code\n",
    "   FROM Warehouses\n",
    "   WHERE Capacity <\n",
    "   (\n",
    "     SELECT COUNT(*)\n",
    "       FROM Boxes\n",
    "       WHERE Warehouse = Warehouses.Code\n",
    "   )\n",
    ")"
   ]
  },
  {
   "cell_type": "code",
   "execution_count": 20,
   "id": "1705c9eb-1785-4630-9867-4d28af6b244b",
   "metadata": {},
   "outputs": [
    {
     "data": {
      "text/html": [
       "<span style=\"None\">Running query in &#x27;sqlite:///mydb.db&#x27;</span>"
      ],
      "text/plain": [
       "Running query in 'sqlite:///mydb.db'"
      ]
     },
     "metadata": {},
     "output_type": "display_data"
    },
    {
     "name": "stderr",
     "output_type": "stream",
     "text": [
      "RuntimeError: If using snippets, you may pass the --with argument explicitly.\n",
      "For more details please refer: https://jupysql.ploomber.io/en/latest/compose.html#with-argument\n",
      "\n",
      "\n",
      "Original error message from DB driver:\n",
      "(sqlite3.OperationalError) near \"select\": syntax error\n",
      "[SQL: create index index_warehouse on Boxes(Warehouse)\n",
      "select * from SQLITE_MASTER where type ='index']\n",
      "(Background on this error at: https://sqlalche.me/e/20/e3q8)\n",
      "\n"
     ]
    }
   ],
   "source": [
    "%%sql\n",
    "-- Add Index for column \"Warehouse\" in table \"boxes\"\n",
    "create index index_warehouse on Boxes(Warehouse)\n",
    "select * from SQLITE_MASTER where type ='index'"
   ]
  },
  {
   "cell_type": "code",
   "execution_count": null,
   "id": "e94b5d1c-1176-4792-bcf9-1639c7531e6a",
   "metadata": {},
   "outputs": [],
   "source": []
  }
 ],
 "metadata": {
  "kernelspec": {
   "display_name": "Python 3 (ipykernel)",
   "language": "python",
   "name": "python3"
  },
  "language_info": {
   "codemirror_mode": {
    "name": "ipython",
    "version": 3
   },
   "file_extension": ".py",
   "mimetype": "text/x-python",
   "name": "python",
   "nbconvert_exporter": "python",
   "pygments_lexer": "ipython3",
   "version": "3.13.5"
  }
 },
 "nbformat": 4,
 "nbformat_minor": 5
}
