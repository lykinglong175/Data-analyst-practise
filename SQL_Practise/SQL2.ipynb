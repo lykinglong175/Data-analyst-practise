{
 "cells": [
  {
   "cell_type": "code",
   "execution_count": 2,
   "id": "c0da8f4b-cfdd-4a21-aa65-0b848fd9a0f8",
   "metadata": {},
   "outputs": [],
   "source": [
    "import sqlite3\n",
    "\n",
    "conn = sqlite3.connect(\"mydb.db\")\n",
    "cursor = conn.cursor()\n",
    "\n",
    "with open(\"2_build_schema.sql\", \"r\") as f:\n",
    "    sql_script = f.read()\n",
    "\n",
    "cursor.executescript(sql_script)\n",
    "conn.commit()"
   ]
  },
  {
   "cell_type": "code",
   "execution_count": 10,
   "id": "09574dc3-4170-47bc-b175-03409068d103",
   "metadata": {},
   "outputs": [
    {
     "name": "stdout",
     "output_type": "stream",
     "text": [
      "The sql extension is already loaded. To reload it, use:\n",
      "  %reload_ext sql\n"
     ]
    },
    {
     "data": {
      "text/html": [
       "<span style=\"None\">Connecting to &#x27;sqlite:///mydb.db&#x27;</span>"
      ],
      "text/plain": [
       "Connecting to 'sqlite:///mydb.db'"
      ]
     },
     "metadata": {},
     "output_type": "display_data"
    }
   ],
   "source": [
    "%load_ext sql\n",
    "%sql sqlite:///mydb.db"
   ]
  },
  {
   "cell_type": "code",
   "execution_count": 11,
   "id": "1017565b-67ec-41c9-95a9-3d0587babaf8",
   "metadata": {},
   "outputs": [
    {
     "data": {
      "text/html": [
       "<span style=\"None\">Running query in &#x27;sqlite:///mydb.db&#x27;</span>"
      ],
      "text/plain": [
       "Running query in 'sqlite:///mydb.db'"
      ]
     },
     "metadata": {},
     "output_type": "display_data"
    },
    {
     "data": {
      "text/html": [
       "<table>\n",
       "    <thead>\n",
       "        <tr>\n",
       "            <th>Code</th>\n",
       "            <th>Name</th>\n",
       "            <th>Budget</th>\n",
       "        </tr>\n",
       "    </thead>\n",
       "    <tbody>\n",
       "        <tr>\n",
       "            <td>14</td>\n",
       "            <td>IT</td>\n",
       "            <td>65000</td>\n",
       "        </tr>\n",
       "        <tr>\n",
       "            <td>37</td>\n",
       "            <td>Accounting</td>\n",
       "            <td>15000</td>\n",
       "        </tr>\n",
       "        <tr>\n",
       "            <td>59</td>\n",
       "            <td>Human Resources</td>\n",
       "            <td>240000</td>\n",
       "        </tr>\n",
       "        <tr>\n",
       "            <td>77</td>\n",
       "            <td>Research</td>\n",
       "            <td>55000</td>\n",
       "        </tr>\n",
       "    </tbody>\n",
       "</table>"
      ],
      "text/plain": [
       "+------+-----------------+--------+\n",
       "| Code |       Name      | Budget |\n",
       "+------+-----------------+--------+\n",
       "|  14  |        IT       | 65000  |\n",
       "|  37  |    Accounting   | 15000  |\n",
       "|  59  | Human Resources | 240000 |\n",
       "|  77  |     Research    | 55000  |\n",
       "+------+-----------------+--------+"
      ]
     },
     "execution_count": 11,
     "metadata": {},
     "output_type": "execute_result"
    }
   ],
   "source": [
    "%%sql\n",
    "--Showing Data\n",
    "SELECT\n",
    "  *\n",
    "FROM\n",
    "  Departments"
   ]
  },
  {
   "cell_type": "code",
   "execution_count": 12,
   "id": "efa5fb67-c763-43f6-8424-f9b058dee5a6",
   "metadata": {},
   "outputs": [
    {
     "data": {
      "text/html": [
       "<span style=\"None\">Running query in &#x27;sqlite:///mydb.db&#x27;</span>"
      ],
      "text/plain": [
       "Running query in 'sqlite:///mydb.db'"
      ]
     },
     "metadata": {},
     "output_type": "display_data"
    },
    {
     "data": {
      "text/html": [
       "<table>\n",
       "    <thead>\n",
       "        <tr>\n",
       "            <th>SSN</th>\n",
       "            <th>Name</th>\n",
       "            <th>LastName</th>\n",
       "            <th>Department</th>\n",
       "        </tr>\n",
       "    </thead>\n",
       "    <tbody>\n",
       "        <tr>\n",
       "            <td>123234877</td>\n",
       "            <td>Michael</td>\n",
       "            <td>Rogers</td>\n",
       "            <td>14</td>\n",
       "        </tr>\n",
       "        <tr>\n",
       "            <td>152934485</td>\n",
       "            <td>Anand</td>\n",
       "            <td>Manikutty</td>\n",
       "            <td>14</td>\n",
       "        </tr>\n",
       "        <tr>\n",
       "            <td>222364883</td>\n",
       "            <td>Carol</td>\n",
       "            <td>Smith</td>\n",
       "            <td>37</td>\n",
       "        </tr>\n",
       "        <tr>\n",
       "            <td>326587417</td>\n",
       "            <td>Joe</td>\n",
       "            <td>Stevens</td>\n",
       "            <td>37</td>\n",
       "        </tr>\n",
       "        <tr>\n",
       "            <td>332154719</td>\n",
       "            <td>Mary-Anne</td>\n",
       "            <td>Foster</td>\n",
       "            <td>14</td>\n",
       "        </tr>\n",
       "        <tr>\n",
       "            <td>332569843</td>\n",
       "            <td>George</td>\n",
       "            <td>ODonnell</td>\n",
       "            <td>77</td>\n",
       "        </tr>\n",
       "        <tr>\n",
       "            <td>546523478</td>\n",
       "            <td>John</td>\n",
       "            <td>Doe</td>\n",
       "            <td>59</td>\n",
       "        </tr>\n",
       "        <tr>\n",
       "            <td>631231482</td>\n",
       "            <td>David</td>\n",
       "            <td>Smith</td>\n",
       "            <td>77</td>\n",
       "        </tr>\n",
       "        <tr>\n",
       "            <td>654873219</td>\n",
       "            <td>Zacary</td>\n",
       "            <td>Efron</td>\n",
       "            <td>59</td>\n",
       "        </tr>\n",
       "        <tr>\n",
       "            <td>745685214</td>\n",
       "            <td>Eric</td>\n",
       "            <td>Goldsmith</td>\n",
       "            <td>59</td>\n",
       "        </tr>\n",
       "    </tbody>\n",
       "</table>\n",
       "<span style=\"font-style:italic;text-align:center;\">Truncated to <a href=\"https://jupysql.ploomber.io/en/latest/api/configuration.html#displaylimit\">displaylimit</a> of 10.</span>"
      ],
      "text/plain": [
       "+-----------+-----------+-----------+------------+\n",
       "|    SSN    |    Name   |  LastName | Department |\n",
       "+-----------+-----------+-----------+------------+\n",
       "| 123234877 |  Michael  |   Rogers  |     14     |\n",
       "| 152934485 |   Anand   | Manikutty |     14     |\n",
       "| 222364883 |   Carol   |   Smith   |     37     |\n",
       "| 326587417 |    Joe    |  Stevens  |     37     |\n",
       "| 332154719 | Mary-Anne |   Foster  |     14     |\n",
       "| 332569843 |   George  |  ODonnell |     77     |\n",
       "| 546523478 |    John   |    Doe    |     59     |\n",
       "| 631231482 |   David   |   Smith   |     77     |\n",
       "| 654873219 |   Zacary  |   Efron   |     59     |\n",
       "| 745685214 |    Eric   | Goldsmith |     59     |\n",
       "+-----------+-----------+-----------+------------+\n",
       "Truncated to displaylimit of 10."
      ]
     },
     "execution_count": 12,
     "metadata": {},
     "output_type": "execute_result"
    }
   ],
   "source": [
    "%%sql\n",
    "--Showing Data\n",
    "SELECT\n",
    "  *\n",
    "FROM\n",
    "  Employees"
   ]
  },
  {
   "cell_type": "code",
   "execution_count": 46,
   "id": "fb1b001a-bd21-442b-92a6-f5d3486de9fd",
   "metadata": {},
   "outputs": [
    {
     "data": {
      "text/html": [
       "<span style=\"None\">Running query in &#x27;sqlite:///mydb.db&#x27;</span>"
      ],
      "text/plain": [
       "Running query in 'sqlite:///mydb.db'"
      ]
     },
     "metadata": {},
     "output_type": "display_data"
    },
    {
     "data": {
      "text/html": [
       "<table>\n",
       "    <thead>\n",
       "        <tr>\n",
       "            <th>Name</th>\n",
       "            <th>LastName</th>\n",
       "        </tr>\n",
       "    </thead>\n",
       "    <tbody>\n",
       "        <tr>\n",
       "            <td>George</td>\n",
       "            <td>ODonnell</td>\n",
       "        </tr>\n",
       "        <tr>\n",
       "            <td>David</td>\n",
       "            <td>Smith</td>\n",
       "        </tr>\n",
       "    </tbody>\n",
       "</table>"
      ],
      "text/plain": [
       "+--------+----------+\n",
       "|  Name  | LastName |\n",
       "+--------+----------+\n",
       "| George | ODonnell |\n",
       "| David  |  Smith   |\n",
       "+--------+----------+"
      ]
     },
     "execution_count": 46,
     "metadata": {},
     "output_type": "execute_result"
    }
   ],
   "source": [
    "%%sql\n",
    "--Select the name and last name of employees working for departments with second lowest budget.\n",
    "SELECT e.Name, e.LastName\n",
    "FROM Employees e \n",
    "WHERE e.Department = (\n",
    "       SELECT sub.Code \n",
    "       FROM (SELECT * FROM Departments d ORDER BY d.budget LIMIT 2) sub \n",
    "       ORDER BY budget DESC LIMIT 1);\n",
    "\n",
    "\n"
   ]
  },
  {
   "cell_type": "code",
   "execution_count": 37,
   "id": "0a89866f-0cb3-4d02-93cf-adc55d58e428",
   "metadata": {},
   "outputs": [
    {
     "data": {
      "text/html": [
       "<span style=\"None\">Running query in &#x27;sqlite:///mydb.db&#x27;</span>"
      ],
      "text/plain": [
       "Running query in 'sqlite:///mydb.db'"
      ]
     },
     "metadata": {},
     "output_type": "display_data"
    },
    {
     "data": {
      "text/html": [
       "<table>\n",
       "    <thead>\n",
       "        <tr>\n",
       "            <th>Name</th>\n",
       "        </tr>\n",
       "    </thead>\n",
       "    <tbody>\n",
       "        <tr>\n",
       "            <td>Human Resources</td>\n",
       "        </tr>\n",
       "        <tr>\n",
       "            <td>IT</td>\n",
       "        </tr>\n",
       "    </tbody>\n",
       "</table>"
      ],
      "text/plain": [
       "+-----------------+\n",
       "|       Name      |\n",
       "+-----------------+\n",
       "| Human Resources |\n",
       "|        IT       |\n",
       "+-----------------+"
      ]
     },
     "execution_count": 37,
     "metadata": {},
     "output_type": "execute_result"
    }
   ],
   "source": [
    "%%sql\n",
    "SELECT\n",
    "  Departments.Name\n",
    "FROM\n",
    "  Employees\n",
    "  INNER JOIN Departments ON Department = Code\n",
    "GROUP BY\n",
    "  Departments.Name\n",
    "HAVING\n",
    "  COUNT(*) > 2;"
   ]
  },
  {
   "cell_type": "code",
   "execution_count": 21,
   "id": "1cd395b5-699a-48a8-bfa8-5ba63a68c801",
   "metadata": {},
   "outputs": [
    {
     "data": {
      "text/html": [
       "<span style=\"None\">Running query in &#x27;sqlite:///mydb.db&#x27;</span>"
      ],
      "text/plain": [
       "Running query in 'sqlite:///mydb.db'"
      ]
     },
     "metadata": {},
     "output_type": "display_data"
    },
    {
     "data": {
      "text/html": [
       "<table>\n",
       "    <thead>\n",
       "        <tr>\n",
       "            <th>SSN</th>\n",
       "            <th>Name</th>\n",
       "            <th>LastName</th>\n",
       "            <th>Department</th>\n",
       "        </tr>\n",
       "    </thead>\n",
       "    <tbody>\n",
       "        <tr>\n",
       "            <td>222364883</td>\n",
       "            <td>Carol</td>\n",
       "            <td>Smith</td>\n",
       "            <td>37</td>\n",
       "        </tr>\n",
       "        <tr>\n",
       "            <td>326587417</td>\n",
       "            <td>Joe</td>\n",
       "            <td>Stevens</td>\n",
       "            <td>37</td>\n",
       "        </tr>\n",
       "        <tr>\n",
       "            <td>631231482</td>\n",
       "            <td>David</td>\n",
       "            <td>Smith</td>\n",
       "            <td>77</td>\n",
       "        </tr>\n",
       "        <tr>\n",
       "            <td>845657246</td>\n",
       "            <td>Kumar</td>\n",
       "            <td>Swamy</td>\n",
       "            <td>14</td>\n",
       "        </tr>\n",
       "    </tbody>\n",
       "</table>"
      ],
      "text/plain": [
       "+-----------+-------+----------+------------+\n",
       "|    SSN    |  Name | LastName | Department |\n",
       "+-----------+-------+----------+------------+\n",
       "| 222364883 | Carol |  Smith   |     37     |\n",
       "| 326587417 |  Joe  | Stevens  |     37     |\n",
       "| 631231482 | David |  Smith   |     77     |\n",
       "| 845657246 | Kumar |  Swamy   |     14     |\n",
       "+-----------+-------+----------+------------+"
      ]
     },
     "execution_count": 21,
     "metadata": {},
     "output_type": "execute_result"
    }
   ],
   "source": [
    "%%sql\n",
    "-- Select all the data of employees whose last name begins with an \"S\"\n",
    "SELECT\n",
    "  *\n",
    "FROM\n",
    "  employees\n",
    "WHERE\n",
    "  LastName LIKE 'S%';"
   ]
  },
  {
   "cell_type": "code",
   "execution_count": 23,
   "id": "bf1f45fb-a83d-4159-8f49-c82bcc24ce01",
   "metadata": {},
   "outputs": [
    {
     "data": {
      "text/html": [
       "<span style=\"None\">Running query in &#x27;sqlite:///mydb.db&#x27;</span>"
      ],
      "text/plain": [
       "Running query in 'sqlite:///mydb.db'"
      ]
     },
     "metadata": {},
     "output_type": "display_data"
    },
    {
     "data": {
      "text/html": [
       "<table>\n",
       "    <thead>\n",
       "        <tr>\n",
       "            <th>Department</th>\n",
       "            <th>Nums</th>\n",
       "        </tr>\n",
       "    </thead>\n",
       "    <tbody>\n",
       "        <tr>\n",
       "            <td>14</td>\n",
       "            <td>5</td>\n",
       "        </tr>\n",
       "        <tr>\n",
       "            <td>37</td>\n",
       "            <td>2</td>\n",
       "        </tr>\n",
       "        <tr>\n",
       "            <td>59</td>\n",
       "            <td>3</td>\n",
       "        </tr>\n",
       "        <tr>\n",
       "            <td>77</td>\n",
       "            <td>2</td>\n",
       "        </tr>\n",
       "    </tbody>\n",
       "</table>"
      ],
      "text/plain": [
       "+------------+------+\n",
       "| Department | Nums |\n",
       "+------------+------+\n",
       "|     14     |  5   |\n",
       "|     37     |  2   |\n",
       "|     59     |  3   |\n",
       "|     77     |  2   |\n",
       "+------------+------+"
      ]
     },
     "execution_count": 23,
     "metadata": {},
     "output_type": "execute_result"
    }
   ],
   "source": [
    "%%sql\n",
    "-- Select the number of employees in each department (you only need to show the department code and the number of employees)\n",
    "SELECT\n",
    "  Department,\n",
    "  COUNT(*) AS Nums\n",
    "FROM\n",
    "  Employees\n",
    "GROUP BY\n",
    "  Department"
   ]
  },
  {
   "cell_type": "code",
   "execution_count": 24,
   "id": "3e4be977-81ff-4b3b-874b-35c6bbec7739",
   "metadata": {},
   "outputs": [
    {
     "data": {
      "text/html": [
       "<span style=\"None\">Running query in &#x27;sqlite:///mydb.db&#x27;</span>"
      ],
      "text/plain": [
       "Running query in 'sqlite:///mydb.db'"
      ]
     },
     "metadata": {},
     "output_type": "display_data"
    },
    {
     "data": {
      "text/html": [
       "<table>\n",
       "    <thead>\n",
       "        <tr>\n",
       "            <th>SSN</th>\n",
       "            <th>Name</th>\n",
       "            <th>LastName</th>\n",
       "            <th>Department</th>\n",
       "            <th>Code</th>\n",
       "            <th>Name_1</th>\n",
       "            <th>Budget</th>\n",
       "        </tr>\n",
       "    </thead>\n",
       "    <tbody>\n",
       "        <tr>\n",
       "            <td>123234877</td>\n",
       "            <td>Michael</td>\n",
       "            <td>Rogers</td>\n",
       "            <td>14</td>\n",
       "            <td>14</td>\n",
       "            <td>IT</td>\n",
       "            <td>65000</td>\n",
       "        </tr>\n",
       "        <tr>\n",
       "            <td>152934485</td>\n",
       "            <td>Anand</td>\n",
       "            <td>Manikutty</td>\n",
       "            <td>14</td>\n",
       "            <td>14</td>\n",
       "            <td>IT</td>\n",
       "            <td>65000</td>\n",
       "        </tr>\n",
       "        <tr>\n",
       "            <td>222364883</td>\n",
       "            <td>Carol</td>\n",
       "            <td>Smith</td>\n",
       "            <td>37</td>\n",
       "            <td>37</td>\n",
       "            <td>Accounting</td>\n",
       "            <td>15000</td>\n",
       "        </tr>\n",
       "        <tr>\n",
       "            <td>326587417</td>\n",
       "            <td>Joe</td>\n",
       "            <td>Stevens</td>\n",
       "            <td>37</td>\n",
       "            <td>37</td>\n",
       "            <td>Accounting</td>\n",
       "            <td>15000</td>\n",
       "        </tr>\n",
       "        <tr>\n",
       "            <td>332154719</td>\n",
       "            <td>Mary-Anne</td>\n",
       "            <td>Foster</td>\n",
       "            <td>14</td>\n",
       "            <td>14</td>\n",
       "            <td>IT</td>\n",
       "            <td>65000</td>\n",
       "        </tr>\n",
       "        <tr>\n",
       "            <td>332569843</td>\n",
       "            <td>George</td>\n",
       "            <td>ODonnell</td>\n",
       "            <td>77</td>\n",
       "            <td>77</td>\n",
       "            <td>Research</td>\n",
       "            <td>55000</td>\n",
       "        </tr>\n",
       "        <tr>\n",
       "            <td>546523478</td>\n",
       "            <td>John</td>\n",
       "            <td>Doe</td>\n",
       "            <td>59</td>\n",
       "            <td>59</td>\n",
       "            <td>Human Resources</td>\n",
       "            <td>240000</td>\n",
       "        </tr>\n",
       "        <tr>\n",
       "            <td>631231482</td>\n",
       "            <td>David</td>\n",
       "            <td>Smith</td>\n",
       "            <td>77</td>\n",
       "            <td>77</td>\n",
       "            <td>Research</td>\n",
       "            <td>55000</td>\n",
       "        </tr>\n",
       "        <tr>\n",
       "            <td>654873219</td>\n",
       "            <td>Zacary</td>\n",
       "            <td>Efron</td>\n",
       "            <td>59</td>\n",
       "            <td>59</td>\n",
       "            <td>Human Resources</td>\n",
       "            <td>240000</td>\n",
       "        </tr>\n",
       "        <tr>\n",
       "            <td>745685214</td>\n",
       "            <td>Eric</td>\n",
       "            <td>Goldsmith</td>\n",
       "            <td>59</td>\n",
       "            <td>59</td>\n",
       "            <td>Human Resources</td>\n",
       "            <td>240000</td>\n",
       "        </tr>\n",
       "    </tbody>\n",
       "</table>\n",
       "<span style=\"font-style:italic;text-align:center;\">Truncated to <a href=\"https://jupysql.ploomber.io/en/latest/api/configuration.html#displaylimit\">displaylimit</a> of 10.</span>"
      ],
      "text/plain": [
       "+-----------+-----------+-----------+------------+------+-----------------+--------+\n",
       "|    SSN    |    Name   |  LastName | Department | Code |      Name_1     | Budget |\n",
       "+-----------+-----------+-----------+------------+------+-----------------+--------+\n",
       "| 123234877 |  Michael  |   Rogers  |     14     |  14  |        IT       | 65000  |\n",
       "| 152934485 |   Anand   | Manikutty |     14     |  14  |        IT       | 65000  |\n",
       "| 222364883 |   Carol   |   Smith   |     37     |  37  |    Accounting   | 15000  |\n",
       "| 326587417 |    Joe    |  Stevens  |     37     |  37  |    Accounting   | 15000  |\n",
       "| 332154719 | Mary-Anne |   Foster  |     14     |  14  |        IT       | 65000  |\n",
       "| 332569843 |   George  |  ODonnell |     77     |  77  |     Research    | 55000  |\n",
       "| 546523478 |    John   |    Doe    |     59     |  59  | Human Resources | 240000 |\n",
       "| 631231482 |   David   |   Smith   |     77     |  77  |     Research    | 55000  |\n",
       "| 654873219 |   Zacary  |   Efron   |     59     |  59  | Human Resources | 240000 |\n",
       "| 745685214 |    Eric   | Goldsmith |     59     |  59  | Human Resources | 240000 |\n",
       "+-----------+-----------+-----------+------------+------+-----------------+--------+\n",
       "Truncated to displaylimit of 10."
      ]
     },
     "execution_count": 24,
     "metadata": {},
     "output_type": "execute_result"
    }
   ],
   "source": [
    "%%sql\n",
    "-- Select all the data of employees, including each employee's department's data\n",
    "SELECT\n",
    "  *\n",
    "FROM\n",
    "  Employees e\n",
    "  INNER JOIN Departments d ON e.Department = d.Code"
   ]
  },
  {
   "cell_type": "code",
   "execution_count": 25,
   "id": "bcf36e1e-560c-4e85-86bc-7fc1799c6870",
   "metadata": {},
   "outputs": [
    {
     "data": {
      "text/html": [
       "<span style=\"None\">Running query in &#x27;sqlite:///mydb.db&#x27;</span>"
      ],
      "text/plain": [
       "Running query in 'sqlite:///mydb.db'"
      ]
     },
     "metadata": {},
     "output_type": "display_data"
    },
    {
     "data": {
      "text/html": [
       "<table>\n",
       "    <thead>\n",
       "        <tr>\n",
       "            <th>Name</th>\n",
       "            <th>LastName</th>\n",
       "            <th>Department</th>\n",
       "            <th>Budget</th>\n",
       "        </tr>\n",
       "    </thead>\n",
       "    <tbody>\n",
       "        <tr>\n",
       "            <td>Michael</td>\n",
       "            <td>Rogers</td>\n",
       "            <td>IT</td>\n",
       "            <td>65000</td>\n",
       "        </tr>\n",
       "        <tr>\n",
       "            <td>Anand</td>\n",
       "            <td>Manikutty</td>\n",
       "            <td>IT</td>\n",
       "            <td>65000</td>\n",
       "        </tr>\n",
       "        <tr>\n",
       "            <td>Carol</td>\n",
       "            <td>Smith</td>\n",
       "            <td>Accounting</td>\n",
       "            <td>15000</td>\n",
       "        </tr>\n",
       "        <tr>\n",
       "            <td>Joe</td>\n",
       "            <td>Stevens</td>\n",
       "            <td>Accounting</td>\n",
       "            <td>15000</td>\n",
       "        </tr>\n",
       "        <tr>\n",
       "            <td>Mary-Anne</td>\n",
       "            <td>Foster</td>\n",
       "            <td>IT</td>\n",
       "            <td>65000</td>\n",
       "        </tr>\n",
       "        <tr>\n",
       "            <td>George</td>\n",
       "            <td>ODonnell</td>\n",
       "            <td>Research</td>\n",
       "            <td>55000</td>\n",
       "        </tr>\n",
       "        <tr>\n",
       "            <td>John</td>\n",
       "            <td>Doe</td>\n",
       "            <td>Human Resources</td>\n",
       "            <td>240000</td>\n",
       "        </tr>\n",
       "        <tr>\n",
       "            <td>David</td>\n",
       "            <td>Smith</td>\n",
       "            <td>Research</td>\n",
       "            <td>55000</td>\n",
       "        </tr>\n",
       "        <tr>\n",
       "            <td>Zacary</td>\n",
       "            <td>Efron</td>\n",
       "            <td>Human Resources</td>\n",
       "            <td>240000</td>\n",
       "        </tr>\n",
       "        <tr>\n",
       "            <td>Eric</td>\n",
       "            <td>Goldsmith</td>\n",
       "            <td>Human Resources</td>\n",
       "            <td>240000</td>\n",
       "        </tr>\n",
       "    </tbody>\n",
       "</table>\n",
       "<span style=\"font-style:italic;text-align:center;\">Truncated to <a href=\"https://jupysql.ploomber.io/en/latest/api/configuration.html#displaylimit\">displaylimit</a> of 10.</span>"
      ],
      "text/plain": [
       "+-----------+-----------+-----------------+--------+\n",
       "|    Name   |  LastName |    Department   | Budget |\n",
       "+-----------+-----------+-----------------+--------+\n",
       "|  Michael  |   Rogers  |        IT       | 65000  |\n",
       "|   Anand   | Manikutty |        IT       | 65000  |\n",
       "|   Carol   |   Smith   |    Accounting   | 15000  |\n",
       "|    Joe    |  Stevens  |    Accounting   | 15000  |\n",
       "| Mary-Anne |   Foster  |        IT       | 65000  |\n",
       "|   George  |  ODonnell |     Research    | 55000  |\n",
       "|    John   |    Doe    | Human Resources | 240000 |\n",
       "|   David   |   Smith   |     Research    | 55000  |\n",
       "|   Zacary  |   Efron   | Human Resources | 240000 |\n",
       "|    Eric   | Goldsmith | Human Resources | 240000 |\n",
       "+-----------+-----------+-----------------+--------+\n",
       "Truncated to displaylimit of 10."
      ]
     },
     "execution_count": 25,
     "metadata": {},
     "output_type": "execute_result"
    }
   ],
   "source": [
    "%%sql\n",
    "-- Select the name and last name of each employee, along with the name and budget of the employee's department.\n",
    "SELECT\n",
    "  e.Name,\n",
    "  e.LastName,\n",
    "  d.Name AS Department,\n",
    "  d.Budget\n",
    "FROM\n",
    "  Employees e\n",
    "  INNER JOIN Departments d ON e.Department = d.Code"
   ]
  },
  {
   "cell_type": "code",
   "execution_count": 27,
   "id": "efeae217-5ecd-43cb-bfbb-5454543bb801",
   "metadata": {},
   "outputs": [
    {
     "data": {
      "text/html": [
       "<span style=\"None\">Running query in &#x27;sqlite:///mydb.db&#x27;</span>"
      ],
      "text/plain": [
       "Running query in 'sqlite:///mydb.db'"
      ]
     },
     "metadata": {},
     "output_type": "display_data"
    },
    {
     "data": {
      "text/html": [
       "<table>\n",
       "    <thead>\n",
       "        <tr>\n",
       "            <th>Name</th>\n",
       "            <th>LastName</th>\n",
       "            <th>Department</th>\n",
       "            <th>Budget</th>\n",
       "        </tr>\n",
       "    </thead>\n",
       "    <tbody>\n",
       "        <tr>\n",
       "            <td>Michael</td>\n",
       "            <td>Rogers</td>\n",
       "            <td>IT</td>\n",
       "            <td>65000</td>\n",
       "        </tr>\n",
       "        <tr>\n",
       "            <td>Anand</td>\n",
       "            <td>Manikutty</td>\n",
       "            <td>IT</td>\n",
       "            <td>65000</td>\n",
       "        </tr>\n",
       "        <tr>\n",
       "            <td>Mary-Anne</td>\n",
       "            <td>Foster</td>\n",
       "            <td>IT</td>\n",
       "            <td>65000</td>\n",
       "        </tr>\n",
       "        <tr>\n",
       "            <td>John</td>\n",
       "            <td>Doe</td>\n",
       "            <td>Human Resources</td>\n",
       "            <td>240000</td>\n",
       "        </tr>\n",
       "        <tr>\n",
       "            <td>Zacary</td>\n",
       "            <td>Efron</td>\n",
       "            <td>Human Resources</td>\n",
       "            <td>240000</td>\n",
       "        </tr>\n",
       "        <tr>\n",
       "            <td>Eric</td>\n",
       "            <td>Goldsmith</td>\n",
       "            <td>Human Resources</td>\n",
       "            <td>240000</td>\n",
       "        </tr>\n",
       "        <tr>\n",
       "            <td>Elizabeth</td>\n",
       "            <td>Doe</td>\n",
       "            <td>IT</td>\n",
       "            <td>65000</td>\n",
       "        </tr>\n",
       "        <tr>\n",
       "            <td>Kumar</td>\n",
       "            <td>Swamy</td>\n",
       "            <td>IT</td>\n",
       "            <td>65000</td>\n",
       "        </tr>\n",
       "    </tbody>\n",
       "</table>"
      ],
      "text/plain": [
       "+-----------+-----------+-----------------+--------+\n",
       "|    Name   |  LastName |    Department   | Budget |\n",
       "+-----------+-----------+-----------------+--------+\n",
       "|  Michael  |   Rogers  |        IT       | 65000  |\n",
       "|   Anand   | Manikutty |        IT       | 65000  |\n",
       "| Mary-Anne |   Foster  |        IT       | 65000  |\n",
       "|    John   |    Doe    | Human Resources | 240000 |\n",
       "|   Zacary  |   Efron   | Human Resources | 240000 |\n",
       "|    Eric   | Goldsmith | Human Resources | 240000 |\n",
       "| Elizabeth |    Doe    |        IT       | 65000  |\n",
       "|   Kumar   |   Swamy   |        IT       | 65000  |\n",
       "+-----------+-----------+-----------------+--------+"
      ]
     },
     "execution_count": 27,
     "metadata": {},
     "output_type": "execute_result"
    }
   ],
   "source": [
    "%%sql\n",
    "-- Select the name and last name of employees working for departments with a budget greater than $60,000.\n",
    "SELECT\n",
    "  e.Name,\n",
    "  e.LastName,\n",
    "  d.Name AS Department,\n",
    "  d.Budget\n",
    "FROM\n",
    "  Employees e\n",
    "  INNER JOIN Departments d ON e.Department = d.Code\n",
    "WHERE\n",
    "  d.Budget >= 60000"
   ]
  },
  {
   "cell_type": "code",
   "execution_count": 30,
   "id": "bb8f6414-99c5-413b-9a3f-08e4c1875485",
   "metadata": {},
   "outputs": [
    {
     "data": {
      "text/html": [
       "<span style=\"None\">Running query in &#x27;sqlite:///mydb.db&#x27;</span>"
      ],
      "text/plain": [
       "Running query in 'sqlite:///mydb.db'"
      ]
     },
     "metadata": {},
     "output_type": "display_data"
    },
    {
     "data": {
      "text/html": [
       "<table>\n",
       "    <thead>\n",
       "        <tr>\n",
       "            <th>Code</th>\n",
       "            <th>Name</th>\n",
       "            <th>Budget</th>\n",
       "        </tr>\n",
       "    </thead>\n",
       "    <tbody>\n",
       "        <tr>\n",
       "            <td>59</td>\n",
       "            <td>Human Resources</td>\n",
       "            <td>240000</td>\n",
       "        </tr>\n",
       "    </tbody>\n",
       "</table>"
      ],
      "text/plain": [
       "+------+-----------------+--------+\n",
       "| Code |       Name      | Budget |\n",
       "+------+-----------------+--------+\n",
       "|  59  | Human Resources | 240000 |\n",
       "+------+-----------------+--------+"
      ]
     },
     "execution_count": 30,
     "metadata": {},
     "output_type": "execute_result"
    }
   ],
   "source": [
    "%%sql\n",
    "-- Select the departments with a budget larger than the average budget of all the departments.\n",
    "SELECT\n",
    "  *\n",
    "FROM\n",
    "  Departments\n",
    "WHERE\n",
    "  Budget >= (\n",
    "    SELECT\n",
    "      AVG(Budget)\n",
    "    FROM\n",
    "      Departments\n",
    "  )"
   ]
  },
  {
   "cell_type": "code",
   "execution_count": 39,
   "id": "52cc5162-6e2f-4519-9410-448d0b491c1a",
   "metadata": {},
   "outputs": [
    {
     "data": {
      "text/html": [
       "<span style=\"None\">Running query in &#x27;sqlite:///mydb.db&#x27;</span>"
      ],
      "text/plain": [
       "Running query in 'sqlite:///mydb.db'"
      ]
     },
     "metadata": {},
     "output_type": "display_data"
    },
    {
     "data": {
      "text/html": [
       "<table>\n",
       "    <thead>\n",
       "        <tr>\n",
       "            <th>Name</th>\n",
       "        </tr>\n",
       "    </thead>\n",
       "    <tbody>\n",
       "        <tr>\n",
       "            <td>IT</td>\n",
       "        </tr>\n",
       "        <tr>\n",
       "            <td>Human Resources</td>\n",
       "        </tr>\n",
       "    </tbody>\n",
       "</table>"
      ],
      "text/plain": [
       "+-----------------+\n",
       "|       Name      |\n",
       "+-----------------+\n",
       "|        IT       |\n",
       "| Human Resources |\n",
       "+-----------------+"
      ]
     },
     "execution_count": 39,
     "metadata": {},
     "output_type": "execute_result"
    }
   ],
   "source": [
    "%%sql\n",
    "-- Select the names of departments with more than two employees\n",
    "SELECT\n",
    "  d.Name\n",
    "FROM\n",
    "  Departments d\n",
    "  INNER JOIN Employees e ON d.Code = e.Department\n",
    "GROUP BY\n",
    "  e.Department\n",
    "HAVING\n",
    "  COUNT(*) > 2"
   ]
  },
  {
   "cell_type": "code",
   "execution_count": null,
   "id": "ac720c30-f4e2-4aca-920d-1e2011e71793",
   "metadata": {},
   "outputs": [],
   "source": [
    "%%sql\n"
   ]
  }
 ],
 "metadata": {
  "kernelspec": {
   "display_name": "Python 3 (ipykernel)",
   "language": "python",
   "name": "python3"
  },
  "language_info": {
   "codemirror_mode": {
    "name": "ipython",
    "version": 3
   },
   "file_extension": ".py",
   "mimetype": "text/x-python",
   "name": "python",
   "nbconvert_exporter": "python",
   "pygments_lexer": "ipython3",
   "version": "3.13.5"
  }
 },
 "nbformat": 4,
 "nbformat_minor": 5
}
