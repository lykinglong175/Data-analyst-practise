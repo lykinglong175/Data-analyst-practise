{
 "cells": [
  {
   "cell_type": "code",
   "execution_count": 4,
   "id": "d06d580f-2a04-42a9-a6ea-55b66faa9d92",
   "metadata": {},
   "outputs": [
    {
     "name": "stdout",
     "output_type": "stream",
     "text": [
      "Requirement already satisfied: jupysql in /Library/Frameworks/Python.framework/Versions/3.13/lib/python3.13/site-packages (0.11.1)\n",
      "Requirement already satisfied: prettytable>=3.12.0 in /Library/Frameworks/Python.framework/Versions/3.13/lib/python3.13/site-packages (from jupysql) (3.16.0)\n",
      "Requirement already satisfied: sqlalchemy in /Library/Frameworks/Python.framework/Versions/3.13/lib/python3.13/site-packages (from jupysql) (2.0.43)\n",
      "Requirement already satisfied: sqlparse in /Library/Frameworks/Python.framework/Versions/3.13/lib/python3.13/site-packages (from jupysql) (0.5.3)\n",
      "Requirement already satisfied: ipython-genutils>=0.1.0 in /Library/Frameworks/Python.framework/Versions/3.13/lib/python3.13/site-packages (from jupysql) (0.2.0)\n",
      "Requirement already satisfied: jinja2 in /Library/Frameworks/Python.framework/Versions/3.13/lib/python3.13/site-packages (from jupysql) (3.1.6)\n",
      "Requirement already satisfied: sqlglot>=11.3.7 in /Library/Frameworks/Python.framework/Versions/3.13/lib/python3.13/site-packages (from jupysql) (27.14.0)\n",
      "Requirement already satisfied: jupysql-plugin>=0.4.2 in /Library/Frameworks/Python.framework/Versions/3.13/lib/python3.13/site-packages (from jupysql) (0.4.5)\n",
      "Requirement already satisfied: ploomber-core>=0.2.7 in /Library/Frameworks/Python.framework/Versions/3.13/lib/python3.13/site-packages (from jupysql) (0.2.27)\n",
      "Requirement already satisfied: pyyaml in /Library/Frameworks/Python.framework/Versions/3.13/lib/python3.13/site-packages (from ploomber-core>=0.2.7->jupysql) (6.0.2)\n",
      "Requirement already satisfied: posthog>=3.0 in /Library/Frameworks/Python.framework/Versions/3.13/lib/python3.13/site-packages (from ploomber-core>=0.2.7->jupysql) (6.7.4)\n",
      "Requirement already satisfied: requests<3.0,>=2.7 in /Library/Frameworks/Python.framework/Versions/3.13/lib/python3.13/site-packages (from posthog>=3.0->ploomber-core>=0.2.7->jupysql) (2.32.4)\n",
      "Requirement already satisfied: six>=1.5 in /Library/Frameworks/Python.framework/Versions/3.13/lib/python3.13/site-packages (from posthog>=3.0->ploomber-core>=0.2.7->jupysql) (1.17.0)\n",
      "Requirement already satisfied: python-dateutil>=2.2 in /Library/Frameworks/Python.framework/Versions/3.13/lib/python3.13/site-packages (from posthog>=3.0->ploomber-core>=0.2.7->jupysql) (2.9.0.post0)\n",
      "Requirement already satisfied: backoff>=1.10.0 in /Library/Frameworks/Python.framework/Versions/3.13/lib/python3.13/site-packages (from posthog>=3.0->ploomber-core>=0.2.7->jupysql) (2.2.1)\n",
      "Requirement already satisfied: distro>=1.5.0 in /Library/Frameworks/Python.framework/Versions/3.13/lib/python3.13/site-packages (from posthog>=3.0->ploomber-core>=0.2.7->jupysql) (1.9.0)\n",
      "Requirement already satisfied: typing-extensions>=4.2.0 in /Library/Frameworks/Python.framework/Versions/3.13/lib/python3.13/site-packages (from posthog>=3.0->ploomber-core>=0.2.7->jupysql) (4.14.1)\n",
      "Requirement already satisfied: charset_normalizer<4,>=2 in /Library/Frameworks/Python.framework/Versions/3.13/lib/python3.13/site-packages (from requests<3.0,>=2.7->posthog>=3.0->ploomber-core>=0.2.7->jupysql) (3.4.2)\n",
      "Requirement already satisfied: idna<4,>=2.5 in /Library/Frameworks/Python.framework/Versions/3.13/lib/python3.13/site-packages (from requests<3.0,>=2.7->posthog>=3.0->ploomber-core>=0.2.7->jupysql) (3.10)\n",
      "Requirement already satisfied: urllib3<3,>=1.21.1 in /Library/Frameworks/Python.framework/Versions/3.13/lib/python3.13/site-packages (from requests<3.0,>=2.7->posthog>=3.0->ploomber-core>=0.2.7->jupysql) (2.5.0)\n",
      "Requirement already satisfied: certifi>=2017.4.17 in /Library/Frameworks/Python.framework/Versions/3.13/lib/python3.13/site-packages (from requests<3.0,>=2.7->posthog>=3.0->ploomber-core>=0.2.7->jupysql) (2025.8.3)\n",
      "Requirement already satisfied: wcwidth in /Library/Frameworks/Python.framework/Versions/3.13/lib/python3.13/site-packages (from prettytable>=3.12.0->jupysql) (0.2.13)\n",
      "Requirement already satisfied: MarkupSafe>=2.0 in /Library/Frameworks/Python.framework/Versions/3.13/lib/python3.13/site-packages (from jinja2->jupysql) (3.0.2)\n",
      "Note: you may need to restart the kernel to use updated packages.\n"
     ]
    }
   ],
   "source": [
    "pip install jupysql"
   ]
  },
  {
   "cell_type": "code",
   "execution_count": 20,
   "id": "8cecb6b9-2d54-40db-8700-91d2552c2cf1",
   "metadata": {},
   "outputs": [
    {
     "name": "stdout",
     "output_type": "stream",
     "text": [
      "The sql extension is already loaded. To reload it, use:\n",
      "  %reload_ext sql\n"
     ]
    }
   ],
   "source": [
    "%load_ext sql\n",
    "%sql sqlite:///practice.db\n",
    "\n"
   ]
  },
  {
   "cell_type": "code",
   "execution_count": 16,
   "id": "389cc0bc-3295-4902-afb6-8ef16d76b9b5",
   "metadata": {},
   "outputs": [
    {
     "data": {
      "text/html": [
       "<span style=\"None\">Running query in &#x27;sqlite:///practice.db&#x27;</span>"
      ],
      "text/plain": [
       "Running query in 'sqlite:///practice.db'"
      ]
     },
     "metadata": {},
     "output_type": "display_data"
    },
    {
     "data": {
      "text/html": [
       "<table>\n",
       "    <thead>\n",
       "        <tr>\n",
       "        </tr>\n",
       "    </thead>\n",
       "    <tbody>\n",
       "    </tbody>\n",
       "</table>"
      ],
      "text/plain": [
       "++\n",
       "||\n",
       "++\n",
       "++"
      ]
     },
     "execution_count": 16,
     "metadata": {},
     "output_type": "execute_result"
    }
   ],
   "source": [
    "%%sql\n",
    "CREATE TABLE IF NOT EXISTS Manufacturers (\n",
    "  Code INTEGER,\n",
    "  Name VARCHAR(255) NOT NULL,\n",
    "  PRIMARY KEY (Code)\n",
    ");\n",
    "CREATE TABLE IF NOT EXISTS Products (\n",
    "  Code INTEGER,\n",
    "  Name VARCHAR(255) NOT NULL,\n",
    "  Price DECIMAL NOT NULL,\n",
    "  Manufacturer INTEGER NOT NULL,\n",
    "  PRIMARY KEY (Code),\n",
    "  FOREIGN KEY (Manufacturer) REFERENCES Manufacturers(Code)\n",
    ");\n",
    "INSERT OR IGNORE INTO Manufacturers (Code, Name) VALUES (1, 'Sony');\n",
    "INSERT OR IGNORE INTO Manufacturers (Code, Name) VALUES (2, 'Creative Labs');\n",
    "INSERT OR IGNORE INTO Manufacturers (Code, Name) VALUES (3, 'Hewlett-Packard');\n",
    "INSERT OR IGNORE INTO Manufacturers (Code, Name) VALUES (4, 'Iomega');\n",
    "INSERT OR IGNORE INTO Manufacturers (Code, Name) VALUES (5, 'Fujitsu');\n",
    "INSERT OR IGNORE INTO Manufacturers (Code, Name) VALUES (6, 'Winchester');\n",
    "INSERT OR IGNORE INTO Products (Code, Name, Price, Manufacturer) VALUES (1, 'Hard drive', 240, 5);\n",
    "INSERT OR IGNORE INTO Products (Code, Name, Price, Manufacturer) VALUES (2, 'Memory', 120, 6);\n",
    "INSERT OR IGNORE INTO Products (Code, Name, Price, Manufacturer) VALUES (3, 'ZIP drive', 150, 4);\n",
    "INSERT OR IGNORE INTO Products (Code, Name, Price, Manufacturer) VALUES (4, 'Floppy disk', 5, 6);\n",
    "INSERT OR IGNORE INTO Products (Code, Name, Price, Manufacturer) VALUES (5, 'Monitor', 240, 1);\n",
    "INSERT OR IGNORE INTO Products (Code, Name, Price, Manufacturer) VALUES (6, 'DVD drive', 180, 2);\n",
    "INSERT OR IGNORE INTO Products (Code, Name, Price, Manufacturer) VALUES (7, 'CD drive', 90, 2);\n",
    "INSERT OR IGNORE INTO Products (Code, Name, Price, Manufacturer) VALUES (8, 'Printer', 270, 3);\n",
    "INSERT OR IGNORE INTO Products (Code, Name, Price, Manufacturer) VALUES (9, 'Toner cartridge', 66, 3);\n",
    "INSERT OR IGNORE INTO Products (Code, Name, Price, Manufacturer) VALUES (10, 'DVD burner', 180, 2);\n"
   ]
  },
  {
   "cell_type": "code",
   "execution_count": 34,
   "id": "f40d102c-0dfa-4e0c-94a5-6737039ccc3b",
   "metadata": {},
   "outputs": [
    {
     "data": {
      "text/html": [
       "<span style=\"None\">Running query in &#x27;sqlite:///practice.db&#x27;</span>"
      ],
      "text/plain": [
       "Running query in 'sqlite:///practice.db'"
      ]
     },
     "metadata": {},
     "output_type": "display_data"
    },
    {
     "data": {
      "text/html": [
       "<table>\n",
       "    <thead>\n",
       "        <tr>\n",
       "            <th>Name</th>\n",
       "            <th>Price</th>\n",
       "        </tr>\n",
       "    </thead>\n",
       "    <tbody>\n",
       "        <tr>\n",
       "            <td>Hard drive</td>\n",
       "            <td>240</td>\n",
       "        </tr>\n",
       "        <tr>\n",
       "            <td>Memory</td>\n",
       "            <td>120</td>\n",
       "        </tr>\n",
       "        <tr>\n",
       "            <td>ZIP drive</td>\n",
       "            <td>150</td>\n",
       "        </tr>\n",
       "        <tr>\n",
       "            <td>Floppy disk</td>\n",
       "            <td>5</td>\n",
       "        </tr>\n",
       "        <tr>\n",
       "            <td>Monitor</td>\n",
       "            <td>240</td>\n",
       "        </tr>\n",
       "        <tr>\n",
       "            <td>DVD drive</td>\n",
       "            <td>180</td>\n",
       "        </tr>\n",
       "        <tr>\n",
       "            <td>CD drive</td>\n",
       "            <td>90</td>\n",
       "        </tr>\n",
       "        <tr>\n",
       "            <td>Printer</td>\n",
       "            <td>270</td>\n",
       "        </tr>\n",
       "        <tr>\n",
       "            <td>Toner cartridge</td>\n",
       "            <td>66</td>\n",
       "        </tr>\n",
       "        <tr>\n",
       "            <td>DVD burner</td>\n",
       "            <td>180</td>\n",
       "        </tr>\n",
       "    </tbody>\n",
       "</table>\n",
       "<span style=\"font-style:italic;text-align:center;\">Truncated to <a href=\"https://jupysql.ploomber.io/en/latest/api/configuration.html#displaylimit\">displaylimit</a> of 10.</span>"
      ],
      "text/plain": [
       "+-----------------+-------+\n",
       "|       Name      | Price |\n",
       "+-----------------+-------+\n",
       "|    Hard drive   |  240  |\n",
       "|      Memory     |  120  |\n",
       "|    ZIP drive    |  150  |\n",
       "|   Floppy disk   |   5   |\n",
       "|     Monitor     |  240  |\n",
       "|    DVD drive    |  180  |\n",
       "|     CD drive    |   90  |\n",
       "|     Printer     |  270  |\n",
       "| Toner cartridge |   66  |\n",
       "|    DVD burner   |  180  |\n",
       "+-----------------+-------+\n",
       "Truncated to displaylimit of 10."
      ]
     },
     "execution_count": 34,
     "metadata": {},
     "output_type": "execute_result"
    }
   ],
   "source": [
    "%%sql\n",
    "-- name and price\n",
    "SELECT Name, Price\n",
    "FROM Products;"
   ]
  },
  {
   "cell_type": "code",
   "execution_count": 37,
   "id": "97d77ad6-b5e2-4827-b16b-3c9fc2a9d47a",
   "metadata": {},
   "outputs": [
    {
     "data": {
      "text/html": [
       "<span style=\"None\">Running query in &#x27;sqlite:///practice.db&#x27;</span>"
      ],
      "text/plain": [
       "Running query in 'sqlite:///practice.db'"
      ]
     },
     "metadata": {},
     "output_type": "display_data"
    },
    {
     "data": {
      "text/html": [
       "<table>\n",
       "    <thead>\n",
       "        <tr>\n",
       "            <th>Name</th>\n",
       "        </tr>\n",
       "    </thead>\n",
       "    <tbody>\n",
       "        <tr>\n",
       "            <td>Memory</td>\n",
       "        </tr>\n",
       "        <tr>\n",
       "            <td>CD drive</td>\n",
       "        </tr>\n",
       "        <tr>\n",
       "            <td>Toner cartridge</td>\n",
       "        </tr>\n",
       "    </tbody>\n",
       "</table>"
      ],
      "text/plain": [
       "+-----------------+\n",
       "|       Name      |\n",
       "+-----------------+\n",
       "|      Memory     |\n",
       "|     CD drive    |\n",
       "| Toner cartridge |\n",
       "+-----------------+"
      ]
     },
     "execution_count": 37,
     "metadata": {},
     "output_type": "execute_result"
    }
   ],
   "source": [
    "%%sql\n",
    "-- all the products with a price between $60 and $120\n",
    "Select Name\n",
    "From Products\n",
    "Where price between 60 and 120;"
   ]
  },
  {
   "cell_type": "code",
   "execution_count": 42,
   "id": "8422ca78-b835-4ab2-9f87-f54ba81992a6",
   "metadata": {},
   "outputs": [
    {
     "data": {
      "text/html": [
       "<span style=\"None\">Running query in &#x27;sqlite:///practice.db&#x27;</span>"
      ],
      "text/plain": [
       "Running query in 'sqlite:///practice.db'"
      ]
     },
     "metadata": {},
     "output_type": "display_data"
    },
    {
     "data": {
      "text/html": [
       "<table>\n",
       "    <thead>\n",
       "        <tr>\n",
       "            <th>Average_Price</th>\n",
       "        </tr>\n",
       "    </thead>\n",
       "    <tbody>\n",
       "        <tr>\n",
       "            <td>154.1</td>\n",
       "        </tr>\n",
       "    </tbody>\n",
       "</table>"
      ],
      "text/plain": [
       "+---------------+\n",
       "| Average_Price |\n",
       "+---------------+\n",
       "|     154.1     |\n",
       "+---------------+"
      ]
     },
     "execution_count": 42,
     "metadata": {},
     "output_type": "execute_result"
    }
   ],
   "source": [
    "%%sql\n",
    "-- Compute the average price of all the products\n",
    "Select Avg(price) as Average_Price\n",
    "from Products;"
   ]
  },
  {
   "cell_type": "code",
   "execution_count": 43,
   "id": "bc99e223-d7c2-4c97-a3f5-533fd5b9b0ad",
   "metadata": {},
   "outputs": [
    {
     "data": {
      "text/html": [
       "<span style=\"None\">Running query in &#x27;sqlite:///practice.db&#x27;</span>"
      ],
      "text/plain": [
       "Running query in 'sqlite:///practice.db'"
      ]
     },
     "metadata": {},
     "output_type": "display_data"
    },
    {
     "data": {
      "text/html": [
       "<table>\n",
       "    <thead>\n",
       "        <tr>\n",
       "            <th>avg(price)</th>\n",
       "        </tr>\n",
       "    </thead>\n",
       "    <tbody>\n",
       "        <tr>\n",
       "            <td>150.0</td>\n",
       "        </tr>\n",
       "    </tbody>\n",
       "</table>"
      ],
      "text/plain": [
       "+------------+\n",
       "| avg(price) |\n",
       "+------------+\n",
       "|   150.0    |\n",
       "+------------+"
      ]
     },
     "execution_count": 43,
     "metadata": {},
     "output_type": "execute_result"
    }
   ],
   "source": [
    "%%sql\n",
    "-- Compute the average price of all products with manufacturer code equal to 2\n",
    "select avg(price)\n",
    "From Products\n",
    "where Manufacturer = 2"
   ]
  },
  {
   "cell_type": "code",
   "execution_count": 44,
   "id": "478a6729-f2b0-4f4e-9ec6-4dc75072ccee",
   "metadata": {},
   "outputs": [
    {
     "data": {
      "text/html": [
       "<span style=\"None\">Running query in &#x27;sqlite:///practice.db&#x27;</span>"
      ],
      "text/plain": [
       "Running query in 'sqlite:///practice.db'"
      ]
     },
     "metadata": {},
     "output_type": "display_data"
    },
    {
     "data": {
      "text/html": [
       "<table>\n",
       "    <thead>\n",
       "        <tr>\n",
       "            <th>count(*)</th>\n",
       "        </tr>\n",
       "    </thead>\n",
       "    <tbody>\n",
       "        <tr>\n",
       "            <td>5</td>\n",
       "        </tr>\n",
       "    </tbody>\n",
       "</table>"
      ],
      "text/plain": [
       "+----------+\n",
       "| count(*) |\n",
       "+----------+\n",
       "|    5     |\n",
       "+----------+"
      ]
     },
     "execution_count": 44,
     "metadata": {},
     "output_type": "execute_result"
    }
   ],
   "source": [
    "%%sql\n",
    "-- Compute the number of products with a price larger than or equal to $180\n",
    "select count(*)\n",
    "from Products\n",
    "where price >= 180"
   ]
  },
  {
   "cell_type": "code",
   "execution_count": 48,
   "id": "847ca856-7929-46de-bdd2-50eea150ad91",
   "metadata": {},
   "outputs": [
    {
     "data": {
      "text/html": [
       "<span style=\"None\">Running query in &#x27;sqlite:///practice.db&#x27;</span>"
      ],
      "text/plain": [
       "Running query in 'sqlite:///practice.db'"
      ]
     },
     "metadata": {},
     "output_type": "display_data"
    },
    {
     "data": {
      "text/html": [
       "<table>\n",
       "    <thead>\n",
       "        <tr>\n",
       "            <th>Name</th>\n",
       "            <th>Price</th>\n",
       "        </tr>\n",
       "    </thead>\n",
       "    <tbody>\n",
       "        <tr>\n",
       "            <td>Printer</td>\n",
       "            <td>270</td>\n",
       "        </tr>\n",
       "        <tr>\n",
       "            <td>Hard drive</td>\n",
       "            <td>240</td>\n",
       "        </tr>\n",
       "        <tr>\n",
       "            <td>Monitor</td>\n",
       "            <td>240</td>\n",
       "        </tr>\n",
       "        <tr>\n",
       "            <td>DVD burner</td>\n",
       "            <td>180</td>\n",
       "        </tr>\n",
       "        <tr>\n",
       "            <td>DVD drive</td>\n",
       "            <td>180</td>\n",
       "        </tr>\n",
       "    </tbody>\n",
       "</table>"
      ],
      "text/plain": [
       "+------------+-------+\n",
       "|    Name    | Price |\n",
       "+------------+-------+\n",
       "|  Printer   |  270  |\n",
       "| Hard drive |  240  |\n",
       "|  Monitor   |  240  |\n",
       "| DVD burner |  180  |\n",
       "| DVD drive  |  180  |\n",
       "+------------+-------+"
      ]
     },
     "execution_count": 48,
     "metadata": {},
     "output_type": "execute_result"
    }
   ],
   "source": [
    "%%sql\n",
    "-- Select the name and price with a price larger or equal to $180, and sort first by price (in descending order), and then by name (in ascending order)\n",
    "select name, price\n",
    "from Products\n",
    "where price >= 180\n",
    "order by price desc, name asc;"
   ]
  },
  {
   "cell_type": "code",
   "execution_count": 49,
   "id": "a792d10e-9698-4128-a5fe-df532a3ad500",
   "metadata": {},
   "outputs": [
    {
     "data": {
      "text/html": [
       "<span style=\"None\">Running query in &#x27;sqlite:///practice.db&#x27;</span>"
      ],
      "text/plain": [
       "Running query in 'sqlite:///practice.db'"
      ]
     },
     "metadata": {},
     "output_type": "display_data"
    },
    {
     "data": {
      "text/html": [
       "<table>\n",
       "    <thead>\n",
       "        <tr>\n",
       "            <th>Code</th>\n",
       "            <th>Name</th>\n",
       "            <th>Price</th>\n",
       "            <th>Manufacturer</th>\n",
       "            <th>Name_1</th>\n",
       "        </tr>\n",
       "    </thead>\n",
       "    <tbody>\n",
       "        <tr>\n",
       "            <td>1</td>\n",
       "            <td>Hard drive</td>\n",
       "            <td>240</td>\n",
       "            <td>5</td>\n",
       "            <td>Fujitsu</td>\n",
       "        </tr>\n",
       "        <tr>\n",
       "            <td>2</td>\n",
       "            <td>Memory</td>\n",
       "            <td>120</td>\n",
       "            <td>6</td>\n",
       "            <td>Winchester</td>\n",
       "        </tr>\n",
       "        <tr>\n",
       "            <td>3</td>\n",
       "            <td>ZIP drive</td>\n",
       "            <td>150</td>\n",
       "            <td>4</td>\n",
       "            <td>Iomega</td>\n",
       "        </tr>\n",
       "        <tr>\n",
       "            <td>4</td>\n",
       "            <td>Floppy disk</td>\n",
       "            <td>5</td>\n",
       "            <td>6</td>\n",
       "            <td>Winchester</td>\n",
       "        </tr>\n",
       "        <tr>\n",
       "            <td>5</td>\n",
       "            <td>Monitor</td>\n",
       "            <td>240</td>\n",
       "            <td>1</td>\n",
       "            <td>Sony</td>\n",
       "        </tr>\n",
       "        <tr>\n",
       "            <td>6</td>\n",
       "            <td>DVD drive</td>\n",
       "            <td>180</td>\n",
       "            <td>2</td>\n",
       "            <td>Creative Labs</td>\n",
       "        </tr>\n",
       "        <tr>\n",
       "            <td>7</td>\n",
       "            <td>CD drive</td>\n",
       "            <td>90</td>\n",
       "            <td>2</td>\n",
       "            <td>Creative Labs</td>\n",
       "        </tr>\n",
       "        <tr>\n",
       "            <td>8</td>\n",
       "            <td>Printer</td>\n",
       "            <td>270</td>\n",
       "            <td>3</td>\n",
       "            <td>Hewlett-Packard</td>\n",
       "        </tr>\n",
       "        <tr>\n",
       "            <td>9</td>\n",
       "            <td>Toner cartridge</td>\n",
       "            <td>66</td>\n",
       "            <td>3</td>\n",
       "            <td>Hewlett-Packard</td>\n",
       "        </tr>\n",
       "        <tr>\n",
       "            <td>10</td>\n",
       "            <td>DVD burner</td>\n",
       "            <td>180</td>\n",
       "            <td>2</td>\n",
       "            <td>Creative Labs</td>\n",
       "        </tr>\n",
       "    </tbody>\n",
       "</table>\n",
       "<span style=\"font-style:italic;text-align:center;\">Truncated to <a href=\"https://jupysql.ploomber.io/en/latest/api/configuration.html#displaylimit\">displaylimit</a> of 10.</span>"
      ],
      "text/plain": [
       "+------+-----------------+-------+--------------+-----------------+\n",
       "| Code |       Name      | Price | Manufacturer |      Name_1     |\n",
       "+------+-----------------+-------+--------------+-----------------+\n",
       "|  1   |    Hard drive   |  240  |      5       |     Fujitsu     |\n",
       "|  2   |      Memory     |  120  |      6       |    Winchester   |\n",
       "|  3   |    ZIP drive    |  150  |      4       |      Iomega     |\n",
       "|  4   |   Floppy disk   |   5   |      6       |    Winchester   |\n",
       "|  5   |     Monitor     |  240  |      1       |       Sony      |\n",
       "|  6   |    DVD drive    |  180  |      2       |  Creative Labs  |\n",
       "|  7   |     CD drive    |   90  |      2       |  Creative Labs  |\n",
       "|  8   |     Printer     |  270  |      3       | Hewlett-Packard |\n",
       "|  9   | Toner cartridge |   66  |      3       | Hewlett-Packard |\n",
       "|  10  |    DVD burner   |  180  |      2       |  Creative Labs  |\n",
       "+------+-----------------+-------+--------------+-----------------+\n",
       "Truncated to displaylimit of 10."
      ]
     },
     "execution_count": 49,
     "metadata": {},
     "output_type": "execute_result"
    }
   ],
   "source": [
    "%%sql\n",
    "-- Select all the data from the products, including all the data for each product's manufacturer\n",
    "Select p.*,m.Name\n",
    "from Products p\n",
    "join Manufacturers m\n",
    "on p.Manufacturer = m.Code"
   ]
  },
  {
   "cell_type": "code",
   "execution_count": 50,
   "id": "19f8f418-b0b7-4195-b194-2c5b6711c3ef",
   "metadata": {},
   "outputs": [
    {
     "data": {
      "text/html": [
       "<span style=\"None\">Running query in &#x27;sqlite:///practice.db&#x27;</span>"
      ],
      "text/plain": [
       "Running query in 'sqlite:///practice.db'"
      ]
     },
     "metadata": {},
     "output_type": "display_data"
    },
    {
     "data": {
      "text/html": [
       "<table>\n",
       "    <thead>\n",
       "        <tr>\n",
       "            <th>Name</th>\n",
       "            <th>Price</th>\n",
       "            <th>Name_1</th>\n",
       "        </tr>\n",
       "    </thead>\n",
       "    <tbody>\n",
       "        <tr>\n",
       "            <td>Hard drive</td>\n",
       "            <td>240</td>\n",
       "            <td>Fujitsu</td>\n",
       "        </tr>\n",
       "        <tr>\n",
       "            <td>Memory</td>\n",
       "            <td>120</td>\n",
       "            <td>Winchester</td>\n",
       "        </tr>\n",
       "        <tr>\n",
       "            <td>ZIP drive</td>\n",
       "            <td>150</td>\n",
       "            <td>Iomega</td>\n",
       "        </tr>\n",
       "        <tr>\n",
       "            <td>Floppy disk</td>\n",
       "            <td>5</td>\n",
       "            <td>Winchester</td>\n",
       "        </tr>\n",
       "        <tr>\n",
       "            <td>Monitor</td>\n",
       "            <td>240</td>\n",
       "            <td>Sony</td>\n",
       "        </tr>\n",
       "        <tr>\n",
       "            <td>DVD drive</td>\n",
       "            <td>180</td>\n",
       "            <td>Creative Labs</td>\n",
       "        </tr>\n",
       "        <tr>\n",
       "            <td>CD drive</td>\n",
       "            <td>90</td>\n",
       "            <td>Creative Labs</td>\n",
       "        </tr>\n",
       "        <tr>\n",
       "            <td>Printer</td>\n",
       "            <td>270</td>\n",
       "            <td>Hewlett-Packard</td>\n",
       "        </tr>\n",
       "        <tr>\n",
       "            <td>Toner cartridge</td>\n",
       "            <td>66</td>\n",
       "            <td>Hewlett-Packard</td>\n",
       "        </tr>\n",
       "        <tr>\n",
       "            <td>DVD burner</td>\n",
       "            <td>180</td>\n",
       "            <td>Creative Labs</td>\n",
       "        </tr>\n",
       "    </tbody>\n",
       "</table>\n",
       "<span style=\"font-style:italic;text-align:center;\">Truncated to <a href=\"https://jupysql.ploomber.io/en/latest/api/configuration.html#displaylimit\">displaylimit</a> of 10.</span>"
      ],
      "text/plain": [
       "+-----------------+-------+-----------------+\n",
       "|       Name      | Price |      Name_1     |\n",
       "+-----------------+-------+-----------------+\n",
       "|    Hard drive   |  240  |     Fujitsu     |\n",
       "|      Memory     |  120  |    Winchester   |\n",
       "|    ZIP drive    |  150  |      Iomega     |\n",
       "|   Floppy disk   |   5   |    Winchester   |\n",
       "|     Monitor     |  240  |       Sony      |\n",
       "|    DVD drive    |  180  |  Creative Labs  |\n",
       "|     CD drive    |   90  |  Creative Labs  |\n",
       "|     Printer     |  270  | Hewlett-Packard |\n",
       "| Toner cartridge |   66  | Hewlett-Packard |\n",
       "|    DVD burner   |  180  |  Creative Labs  |\n",
       "+-----------------+-------+-----------------+\n",
       "Truncated to displaylimit of 10."
      ]
     },
     "execution_count": 50,
     "metadata": {},
     "output_type": "execute_result"
    }
   ],
   "source": [
    "%%sql\n",
    "-- Select the product name, price, and manufacturer name of all the products\n",
    "Select p.Name, p.price,m.Name\n",
    "from Products p\n",
    "join Manufacturers m\n",
    "on p.Manufacturer = m.Code"
   ]
  },
  {
   "cell_type": "code",
   "execution_count": 55,
   "id": "e69b5b3c-777f-4b8b-b0ff-1bd263260117",
   "metadata": {},
   "outputs": [
    {
     "data": {
      "text/html": [
       "<span style=\"None\">Running query in &#x27;sqlite:///practice.db&#x27;</span>"
      ],
      "text/plain": [
       "Running query in 'sqlite:///practice.db'"
      ]
     },
     "metadata": {},
     "output_type": "display_data"
    },
    {
     "data": {
      "text/html": [
       "<table>\n",
       "    <thead>\n",
       "        <tr>\n",
       "            <th>avg(p.price)</th>\n",
       "            <th>Name</th>\n",
       "        </tr>\n",
       "    </thead>\n",
       "    <tbody>\n",
       "        <tr>\n",
       "            <td>150.0</td>\n",
       "            <td>Creative Labs</td>\n",
       "        </tr>\n",
       "        <tr>\n",
       "            <td>240.0</td>\n",
       "            <td>Fujitsu</td>\n",
       "        </tr>\n",
       "        <tr>\n",
       "            <td>168.0</td>\n",
       "            <td>Hewlett-Packard</td>\n",
       "        </tr>\n",
       "        <tr>\n",
       "            <td>150.0</td>\n",
       "            <td>Iomega</td>\n",
       "        </tr>\n",
       "        <tr>\n",
       "            <td>240.0</td>\n",
       "            <td>Sony</td>\n",
       "        </tr>\n",
       "        <tr>\n",
       "            <td>62.5</td>\n",
       "            <td>Winchester</td>\n",
       "        </tr>\n",
       "    </tbody>\n",
       "</table>"
      ],
      "text/plain": [
       "+--------------+-----------------+\n",
       "| avg(p.price) |       Name      |\n",
       "+--------------+-----------------+\n",
       "|    150.0     |  Creative Labs  |\n",
       "|    240.0     |     Fujitsu     |\n",
       "|    168.0     | Hewlett-Packard |\n",
       "|    150.0     |      Iomega     |\n",
       "|    240.0     |       Sony      |\n",
       "|     62.5     |    Winchester   |\n",
       "+--------------+-----------------+"
      ]
     },
     "execution_count": 55,
     "metadata": {},
     "output_type": "execute_result"
    }
   ],
   "source": [
    "%%sql\n",
    "-- Select the average price of each manufacturer's products, showing the manufacturer's name\n",
    "Select avg(p.price),m.Name\n",
    "from Products p\n",
    "join Manufacturers m\n",
    "on p.Manufacturer = m.Code\n",
    "group by m.Name"
   ]
  },
  {
   "cell_type": "code",
   "execution_count": 56,
   "id": "eb12b876-2c7c-4b02-adf2-722e5c7cf3c4",
   "metadata": {},
   "outputs": [
    {
     "data": {
      "text/html": [
       "<span style=\"None\">Running query in &#x27;sqlite:///practice.db&#x27;</span>"
      ],
      "text/plain": [
       "Running query in 'sqlite:///practice.db'"
      ]
     },
     "metadata": {},
     "output_type": "display_data"
    },
    {
     "data": {
      "text/html": [
       "<table>\n",
       "    <thead>\n",
       "        <tr>\n",
       "            <th>Name</th>\n",
       "            <th>Price</th>\n",
       "        </tr>\n",
       "    </thead>\n",
       "    <tbody>\n",
       "        <tr>\n",
       "            <td>Floppy disk</td>\n",
       "            <td>5</td>\n",
       "        </tr>\n",
       "    </tbody>\n",
       "</table>"
      ],
      "text/plain": [
       "+-------------+-------+\n",
       "|     Name    | Price |\n",
       "+-------------+-------+\n",
       "| Floppy disk |   5   |\n",
       "+-------------+-------+"
      ]
     },
     "execution_count": 56,
     "metadata": {},
     "output_type": "execute_result"
    }
   ],
   "source": [
    "%%sql\n",
    "-- Select the name and price of the cheapest product.\n",
    "select name, price\n",
    "from Products\n",
    "where price =(select min(price) from Products)"
   ]
  },
  {
   "cell_type": "code",
   "execution_count": 59,
   "id": "b940b8a5-0ddc-4b70-81ac-dfd3ce7d7212",
   "metadata": {},
   "outputs": [
    {
     "data": {
      "text/html": [
       "<span style=\"None\">Running query in &#x27;sqlite:///practice.db&#x27;</span>"
      ],
      "text/plain": [
       "Running query in 'sqlite:///practice.db'"
      ]
     },
     "metadata": {},
     "output_type": "display_data"
    },
    {
     "data": {
      "text/html": [
       "<table>\n",
       "    <thead>\n",
       "        <tr>\n",
       "            <th>Manufacturer</th>\n",
       "            <th>Product</th>\n",
       "            <th>Price</th>\n",
       "        </tr>\n",
       "    </thead>\n",
       "    <tbody>\n",
       "        <tr>\n",
       "            <td>Creative Labs</td>\n",
       "            <td>DVD drive</td>\n",
       "            <td>180</td>\n",
       "        </tr>\n",
       "        <tr>\n",
       "            <td>Fujitsu</td>\n",
       "            <td>Hard drive</td>\n",
       "            <td>240</td>\n",
       "        </tr>\n",
       "        <tr>\n",
       "            <td>Hewlett-Packard</td>\n",
       "            <td>Printer</td>\n",
       "            <td>270</td>\n",
       "        </tr>\n",
       "        <tr>\n",
       "            <td>Iomega</td>\n",
       "            <td>ZIP drive</td>\n",
       "            <td>150</td>\n",
       "        </tr>\n",
       "        <tr>\n",
       "            <td>Sony</td>\n",
       "            <td>Monitor</td>\n",
       "            <td>240</td>\n",
       "        </tr>\n",
       "        <tr>\n",
       "            <td>Winchester</td>\n",
       "            <td>Memory</td>\n",
       "            <td>120</td>\n",
       "        </tr>\n",
       "    </tbody>\n",
       "</table>"
      ],
      "text/plain": [
       "+-----------------+------------+-------+\n",
       "|   Manufacturer  |  Product   | Price |\n",
       "+-----------------+------------+-------+\n",
       "|  Creative Labs  | DVD drive  |  180  |\n",
       "|     Fujitsu     | Hard drive |  240  |\n",
       "| Hewlett-Packard |  Printer   |  270  |\n",
       "|      Iomega     | ZIP drive  |  150  |\n",
       "|       Sony      |  Monitor   |  240  |\n",
       "|    Winchester   |   Memory   |  120  |\n",
       "+-----------------+------------+-------+"
      ]
     },
     "execution_count": 59,
     "metadata": {},
     "output_type": "execute_result"
    }
   ],
   "source": [
    "%%sql\n",
    "-- Select the name of each manufacturer along with the name and price of its most expensive product\n",
    "select m.name as Manufacturer, p.name as Product,p.price\n",
    "from Manufacturers m\n",
    "join Products p\n",
    "on m.Code = p.Manufacturer\n",
    "group by m.Name\n",
    "having price = (select max(p2.price) from Products p2 where p2.Manufacturer = p.Manufacturer);"
   ]
  },
  {
   "cell_type": "code",
   "execution_count": 61,
   "id": "0f855d21-ad36-4014-9cb6-4e6dfb99cf3c",
   "metadata": {},
   "outputs": [
    {
     "data": {
      "text/html": [
       "<span style=\"None\">Running query in &#x27;sqlite:///practice.db&#x27;</span>"
      ],
      "text/plain": [
       "Running query in 'sqlite:///practice.db'"
      ]
     },
     "metadata": {},
     "output_type": "display_data"
    },
    {
     "data": {
      "text/html": [
       "<span style=\"color: green\">10 rows affected.</span>"
      ],
      "text/plain": [
       "10 rows affected."
      ]
     },
     "metadata": {},
     "output_type": "display_data"
    },
    {
     "data": {
      "text/html": [
       "<table>\n",
       "    <thead>\n",
       "        <tr>\n",
       "        </tr>\n",
       "    </thead>\n",
       "    <tbody>\n",
       "    </tbody>\n",
       "</table>"
      ],
      "text/plain": [
       "++\n",
       "||\n",
       "++\n",
       "++"
      ]
     },
     "execution_count": 61,
     "metadata": {},
     "output_type": "execute_result"
    }
   ],
   "source": [
    "%%sql\n",
    "-- Apply a 10% discount to all products\n",
    "update Products\n",
    "set price = price*0.9"
   ]
  },
  {
   "cell_type": "code",
   "execution_count": null,
   "id": "37b78c96-f47a-496a-82a2-3b60b3262cac",
   "metadata": {},
   "outputs": [],
   "source": []
  }
 ],
 "metadata": {
  "kernelspec": {
   "display_name": "Python 3 (ipykernel)",
   "language": "python",
   "name": "python3"
  },
  "language_info": {
   "codemirror_mode": {
    "name": "ipython",
    "version": 3
   },
   "file_extension": ".py",
   "mimetype": "text/x-python",
   "name": "python",
   "nbconvert_exporter": "python",
   "pygments_lexer": "ipython3",
   "version": "3.13.5"
  }
 },
 "nbformat": 4,
 "nbformat_minor": 5
}
